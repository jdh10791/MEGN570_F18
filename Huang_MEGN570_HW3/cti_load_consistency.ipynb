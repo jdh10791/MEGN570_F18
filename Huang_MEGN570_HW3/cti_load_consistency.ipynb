{
 "cells": [
  {
   "cell_type": "markdown",
   "metadata": {},
   "source": [
    "# CTI load consistency check"
   ]
  },
  {
   "cell_type": "code",
   "execution_count": 86,
   "metadata": {},
   "outputs": [],
   "source": [
    "import cantera as ct\n",
    "import numpy as np\n",
    "import pylab as plt\n",
    "from math import exp, pi"
   ]
  },
  {
   "cell_type": "code",
   "execution_count": 92,
   "metadata": {},
   "outputs": [
    {
     "name": "stdout",
     "output_type": "stream",
     "text": [
      "0.0\n",
      "0.0\n",
      "0.0\n",
      "0.0\n",
      "0.0\n",
      "0.0\n",
      "0.0\n",
      "0.0\n",
      "0.0\n",
      "0.0\n",
      "Phi_eq = -0.0: 6 instances\n",
      "Phi_eq = 0.2072853838093918: 4 instances\n"
     ]
    }
   ],
   "source": [
    "\"repeatedly load cti file and check equilibrium potential\"\n",
    "ctifile = 'pcfc_JH.cti'\n",
    "\n",
    "rep = 10\n",
    "phi_eq = np.empty(rep)\n",
    "for i in range(rep):\n",
    "    \n",
    "    gas_ca = ct.Solution(ctifile,'gas_ca')\n",
    "    BCFZY_b = ct.Solution(ctifile,'BCFZY_bulk')\n",
    "    BCFZY_gas = ct.Interface(ctifile,'BCFZY_gas',[gas_ca, BCFZY_b])\n",
    "    elyte = ct.Solution(ctifile,'elyte')\n",
    "    BCFZY_elyte = ct.Interface(ctifile,'BCFZY_elyte',[elyte, BCFZY_b])\n",
    "    BCFZY_b.electric_potential = 0\n",
    "    elyte.electric_potential = 0\n",
    "    phi_eq[i] = -BCFZY_elyte.delta_gibbs[0]/ct.faraday\n",
    "    \n",
    "    print(BCFZY_elyte.electric_potential)\n",
    "    \n",
    "unique_phi = np.unique(phi_eq)\n",
    "for phi in unique_phi:\n",
    "    print(\"Phi_eq = {}: {} instances\".format(phi,len(phi_eq[phi_eq==phi])))"
   ]
  },
  {
   "cell_type": "code",
   "execution_count": 89,
   "metadata": {},
   "outputs": [
    {
     "data": {
      "text/plain": [
       "0.0"
      ]
     },
     "execution_count": 89,
     "metadata": {},
     "output_type": "execute_result"
    }
   ],
   "source": [
    "BCFZY_elyte.electric_potential"
   ]
  },
  {
   "cell_type": "code",
   "execution_count": null,
   "metadata": {},
   "outputs": [],
   "source": []
  }
 ],
 "metadata": {
  "kernelspec": {
   "display_name": "Python 3",
   "language": "python",
   "name": "python3"
  },
  "language_info": {
   "codemirror_mode": {
    "name": "ipython",
    "version": 3
   },
   "file_extension": ".py",
   "mimetype": "text/x-python",
   "name": "python",
   "nbconvert_exporter": "python",
   "pygments_lexer": "ipython3",
   "version": "3.6.6"
  }
 },
 "nbformat": 4,
 "nbformat_minor": 2
}
